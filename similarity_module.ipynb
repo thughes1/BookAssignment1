{
 "cells": [
  {
   "cell_type": "code",
   "execution_count": null,
   "metadata": {},
   "outputs": [
    {
     "name": "stdout",
     "output_type": "stream",
     "text": [
      "79234/92107\r"
     ]
    }
   ],
   "source": [
    "from load_dataset_module import UserPreference\n",
    "from math import sqrt\n",
    "import time\n",
    "\n",
    "class SimilarityUsers:\n",
    "    \n",
    "    def __init__(self,similarityMetric='euclidean',user={'BookID':1}):\n",
    "        ''' Initialise the object '''\n",
    "        self.similarityMetric = similarityMetric\n",
    "        self.user1 = user\n",
    "        self.user2 = user\n",
    "        \n",
    "    def setUser1(self,user):\n",
    "        ''' Sets dictionary containing books(ISNB) and corresponding rating for user1 '''\n",
    "        self.user1 = user\n",
    "        \n",
    "    def getUser1(self):\n",
    "        ''' Returns dictionary containing books(ISBN) and correspondin rating for user1 '''\n",
    "        return self.user1\n",
    "    \n",
    "    def setUser2(self,user):\n",
    "        ''' Sets dictionary containing books(ISNB) and corresponding rating for user2 '''\n",
    "        self.user2 = user\n",
    "        \n",
    "    def getUser2(self):\n",
    "        ''' Returns dictionary containing books(ISBN) and correspondin rating for user2 '''\n",
    "        return self.user2 \n",
    "    \n",
    "    def setSimilarityMetric(self,similarityMetric):\n",
    "        ''' Sets similarity metric '''\n",
    "        self.similarityMetric = similarityMetric\n",
    "        \n",
    "    def getSimilarityMetric(self):\n",
    "        ''' Returns similarity metric '''\n",
    "        return self.similarityMetric\n",
    "    \n",
    "    def checkRated(self):\n",
    "        ''' Checks whether the reader gave the book a review (1-10) '''\n",
    "        d1 = self.user1\n",
    "        d2 = self.user2\n",
    "        for users in d1.copy():\n",
    "            if d1[users] == 0 or d2[users] == 0:\n",
    "                del d1[users]\n",
    "                del d2[users]\n",
    "            else:\n",
    "                continue\n",
    "        self.setUser1(d1)\n",
    "        self.setUser2(d2)\n",
    "        \n",
    "    def rankUsers(self,dictionary):\n",
    "        ''' Returns a dictionary with values replaced by their rank '''\n",
    "        rank = 1\n",
    "        for user in dictionary:\n",
    "            dictionary[user] = rank\n",
    "            rank += 1\n",
    "        return dictionary\n",
    "        \n",
    "    def commonality(self):\n",
    "        ''' Removes any uncommon books from user dictionaries '''\n",
    "        bookAndRatings1 = self.user1\n",
    "        bookAndRatings2 = self.user2\n",
    "        s1 = set(self.user1)\n",
    "        s2 = set(self.user2)\n",
    "        sDiff = s1 ^ s2 # Symmetric difference\n",
    "        \n",
    "        for key in sDiff: # Removes any non-common books \n",
    "            if key in bookAndRatings1:\n",
    "                del bookAndRatings1[key]\n",
    "            if key in bookAndRatings2:\n",
    "                del bookAndRatings2[key]\n",
    "        # Maybe don't reset the values here? instead return new lists   \n",
    "        self.user1 = bookAndRatings1\n",
    "        self.user2 = bookAndRatings2\n",
    "        \n",
    "    def sortedValues(self,user):\n",
    "        ''' Items are sorted by key then put into a list containing their values in the same order '''\n",
    "        return dict(sorted(user.items())).values()\n",
    "                  \n",
    "    def getEuclideanMetric(self): \n",
    "        ''' Returns the inverse of the sum of euclidean distance'''\n",
    "        # euclidean = Sqrt of Sum of the difference in ratings squared. \n",
    "        # return 1 / (1 + (euclidean))\n",
    "        # The smaller the number, the more similar\n",
    "        \n",
    "        self.commonality() # Removes any non-common ratings\n",
    "        self.checkRated() # Checks that all books have been given a rating\n",
    "        \n",
    "        if len(self.user1) == 0:\n",
    "            return 0 # No similarity\n",
    "        else:\n",
    "            sort1 = self.sortedValues(self.user1) # Sorts book IDs in alphabetical order\n",
    "            sort2 = self.sortedValues(self.user2)\n",
    "\n",
    "            subtractPower = lambda a,b : (a - b)**2 # Applies the euclidean distance formula to the values\n",
    "\n",
    "            euclidean = sqrt(sum(map(subtractPower,sort1,sort2)))\n",
    "            similarityMetric = 1 / (1+(euclidean)) # Calculates the inverse of the similarity metric\n",
    "            return similarityMetric\n",
    "\n",
    "    \n",
    "    def getCosineMetric(self):\n",
    "        ''' Returns cosine similarity '''\n",
    "        # Ranges from -1 (Opposite) to 1 (the same) with zero suggesting no correlation\n",
    "        self.commonality() # Removes any non-common ratings\n",
    "        self.checkRated() # Checks that all books have been given a rating\n",
    "\n",
    "        sort1 = self.sortedValues(self.user1)# Sorts book IDs in alphabetical order\n",
    "        sort2 = self.sortedValues(self.user2)\n",
    "        \n",
    "        multiply = lambda a,b : a * b # Returns the numerator for our cosine calculation\n",
    "        multiplications = sum(list(map(multiply,sort1,sort2)))\n",
    "\n",
    "        square = lambda num : num ** 2 # return the denominator for our cosine calcuation\n",
    "        sumSquares1 = sum(map(square,sort1))\n",
    "        sumSquares2 = sum(map(square,sort2))\n",
    "    \n",
    "        try:\n",
    "            return multiplications / (sqrt(sumSquares1)*sqrt(sumSquares2)) \n",
    "        except:\n",
    "            return 0 # No correlation\n",
    "\n",
    "        \n",
    "    def getPearson(self):\n",
    "        ''' Returns the Pearson Coefficient '''\n",
    "        self.commonality() # Removes any non-common ratings\n",
    "        self.checkRated() # Checks that all books have been given a rating\n",
    "\n",
    "        '''THIS PART KEEPS GETTING REPEATED THUS SHOULD MAKE NEW FUNCTION'''\n",
    "        sort1 = self.sortedValues(self.user1)\n",
    "        sort2 = self.sortedValues(self.user2)\n",
    "        \n",
    "        mean = lambda x : sum(x)/len(x) # Returns the mean \n",
    "        meanUser1 = mean(sort1)\n",
    "        meanUser2 = mean(sort2)\n",
    "        \n",
    "        subMean = lambda x,y : (x - meanUser1) * (y - meanUser2)\n",
    "        numerator = sum(list(map(subMean,sort1,sort2))) # Returns numerator\n",
    "        \n",
    "        diffSqr1 = lambda x : (x - meanUser1)**2\n",
    "        diffSqr2 = lambda y : (y - meanUser2)**2\n",
    "        user1Diff = sum(list(map(diffSqr1,sort1)))\n",
    "        user2Diff = sum(list(map(diffSqr2,sort2)))\n",
    "\n",
    "        denominator = sqrt(user1Diff*user2Diff) # Returns denominator\n",
    "        try:\n",
    "            return numerator/denominator\n",
    "        except:\n",
    "            return 0 # No similarity\n",
    "    \n",
    "    def getSpearmanCorr(self):\n",
    "        ''' Returns the Spearman Correlation Coefficient '''\n",
    "        self.commonality()\n",
    "        self.checkRated() # Checks that all books have been given a rating\n",
    "\n",
    "        # Get rankings \n",
    "        rankedUser1 = dict(sorted(self.user1.items(), key = lambda x:x[1], reverse = True)) # Sorts dict by value in descending order\n",
    "        rankedUser2 = dict(sorted(self.user2.items(), key = lambda x:x[1], reverse = True))\n",
    "        # Replace the value with the ranking'\n",
    "        rankedUser1 = self.rankUsers(rankedUser1)\n",
    "        rankedUser2 = self.rankUsers(rankedUser2)\n",
    "        # Order values by their key as opposed to rank\n",
    "        rankedUser1 = self.sortedValues(rankedUser1)\n",
    "        rankedUser2 = self.sortedValues(rankedUser2)\n",
    "        # Define anon function for subtracting difference squared\n",
    "        sqrDiff = lambda a,b : (a-b)**2\n",
    "        # Calculate the numerator of the equation\n",
    "        numerator = 6 * sum(list(map(sqrDiff,rankedUser1,rankedUser2)))\n",
    "        # Calculate the denominator of the equation\n",
    "        denominator = len(rankedUser1)**3 + len(rankedUser1)\n",
    "        try:\n",
    "            return 1-(numerator/denominator)\n",
    "        except:\n",
    "            return 0 # No similarity \n",
    "        \n",
    "    def getManhattan(self):\n",
    "        ''' Returns the inverse of Manhattan distance '''\n",
    "        self.commonality() # Removes any non-common ratings\n",
    "        self.checkRated() # Checks that all books have been given a rating\n",
    "\n",
    "        if len(self.user1) == 0: # Checks if any common ratings exist\n",
    "            return 0 # No similarity\n",
    "        else:\n",
    "            rankedUser1 = self.sortedValues(self.user1)\n",
    "            rankedUser2 = self.sortedValues(self.user2)\n",
    "            # Define function for calculating the difference of two ratings\n",
    "            diff = lambda a,b : a-b\n",
    "            manhattan = sum(list(map(diff,rankedUser1,rankedUser2)))\n",
    "            return 1/(1+manhattan) # Closer to one = more similar\n",
    "        \n",
    "        \n",
    "class SimilarityBooks:\n",
    "    \n",
    "    def __init__(self,bookID='1'):\n",
    "        ''' Initiates similarity '''\n",
    "        self.book1 = bookID\n",
    "        self.book2 = bookID\n",
    "            \n",
    "    def setBook1(self,bookID):\n",
    "        ''' Sets book1 '''\n",
    "        self.book1 = bookID\n",
    "    def setBook2(self,bookID):\n",
    "        ''' Sets book2 '''\n",
    "        self.book2 = bookID\n",
    "    \n",
    "    def getBook1(self):\n",
    "        ''' Returns book1 dictionary '''\n",
    "        return self.book1 \n",
    "    def getBook2(self):\n",
    "        ''' Returns book2 dictionary '''\n",
    "        return self.book2\n",
    "    \n",
    "    def getSimilarity(self,usersPreference):\n",
    "        ''' Returns Jaccard similarity metric '''\n",
    "        s1 = [] # Initialise empty lists, as cannot initialise empty sets\n",
    "        s2 = []\n",
    "        \n",
    "        for user in usersPreference:\n",
    "            if self.book1 in usersPreference[user]:\n",
    "                s1.append(user)\n",
    "            if self.book2 in usersPreference[user]:\n",
    "                s2.append(user)\n",
    "                \n",
    "        # Converts lists to sets for intersection and union functions\n",
    "        s1 = set(s1)\n",
    "        s2 = set(s2)\n",
    "        \n",
    "        # Calculate the intersect and uion\n",
    "        intersect = len(s1.intersection(s2))\n",
    "        union = len(s1.union(s2))\n",
    "        \n",
    "        # Jaccard = intersect/union\n",
    "        try:\n",
    "            return intersect/union # Closer to one = more similar\n",
    "        except:\n",
    "            return 0 # No similarity\n",
    "        \n",
    "class NSimilarItems(SimilarityBooks,SimilarityUsers):\n",
    "    \n",
    "    def __init__(self,bookID=None,userID=None):\n",
    "        super(SimilarityUsers,self).__init__()\n",
    "        super(SimilarityBooks,self).__init__()\n",
    "        # Both are initialised as null to allow for Boolean operation later\n",
    "        self.__bookID = bookID\n",
    "        self.__userID = bookID\n",
    "    \n",
    "    def setUserID(self,user):\n",
    "        self.__userID = user\n",
    "        \n",
    "    def setBookID(self,book):\n",
    "        self.__bookID = book\n",
    "    \n",
    "    def getUserID(self):\n",
    "        return self.__userID\n",
    "    def getBookID(self):\n",
    "        return self.__bookID\n",
    "    \n",
    "    def reduceDataset(self,userPreference):\n",
    "        ''' Reduces dataset to users that contain comparable data '''\n",
    "        # Remove any zeroes as they are not comparable\n",
    "        # Similar to super().checkRated() however this only modifies one user not two\n",
    "        print(len(userPreference))\n",
    "        d1 = userPreference[self.__userID]\n",
    "        for books in d1.copy():\n",
    "            if '0' in d1[books]:\n",
    "                del d1[books]\n",
    "            else:\n",
    "                continue\n",
    "    \n",
    "                   \n",
    "        for user in userPreference.copy():\n",
    "            b = 0 # Initialise b for books \n",
    "            for book in d1:\n",
    "                if book in userPreference[user]:\n",
    "                    b+=1 # Do not delete if at least one book exists \n",
    "                else:\n",
    "                    continue\n",
    "            if b == 0: # If no common books we delete\n",
    "                del userPreference[user]\n",
    "        print(len(userPreference))\n",
    "        return userPreference\n",
    "                        \n",
    "    def setUserDict(self,users):\n",
    "        ''' Convert dictionary item to the correct format {'ISBN':Rating} '''\n",
    "        userDict = {}\n",
    "        for user in list(users):\n",
    "            for book in list(users.values()):\n",
    "                userDict[user] = int(book[-1])\n",
    "        return userDict\n",
    "    \n",
    "    def getNSimilarItems(self,similarityMetric,userPreference):\n",
    "        \n",
    "        if self.__userID != None:\n",
    "            \n",
    "            rankings = {} # Defines users dictionary with opposing similarity rating\n",
    "            i = 1\n",
    "            for user in userPreference:\n",
    "                print('%d/%d'%(i,len(userPreference)), end=\"\\r\")\n",
    "                i+=1\n",
    "                super().setUser1(self.setUserDict(userPreference[self.__userID])) # This must be reset each time due to it being removed in commonality...\n",
    "                super().setUser2(self.setUserDict(userPreference[user]))\n",
    "                if super().getUser2 == super().getUser1(): # Don't compare to itself\n",
    "                    next\n",
    "                else:\n",
    "                    if similarityMetric == 'Euclidean':\n",
    "                        similarity = super().getEuclideanMetric()\n",
    "                    elif similarityMetric == 'Cosine':\n",
    "                        similarity = super().getCosineMetric()\n",
    "                    elif similarityMetric == 'Spearman':\n",
    "                        similarity = super().getSpearmanCorr()\n",
    "                    elif similarityMetric == 'Pearson':\n",
    "                        similarity = super().getPearson()\n",
    "                    else:\n",
    "                        similarity = super().getManhattan()\n",
    "                rankings[user] = similarity\n",
    "            \n",
    "            self.__userID = None # Reset in case called again without being instantiated as a new object\n",
    "            return sorted(rankings.items(), key = lambda x:x[1], reverse = True) # Returns list, sorted largest -> smallest\n",
    "        elif self.__bookID != None:\n",
    "            ''' THIS DATASET IS V. LARGE, INSTEAD ONLY TAKE ONES FROM THE USER PREFERENCE'''\n",
    "            '''   up = UserPreference() # Create user pref object s.t. loadCSV can be called to load book dataset\n",
    "            up.setFilename('Books.csv')\n",
    "            books = list(up.loadCSV())\n",
    "            rankings = {}\n",
    "            super().setBook1(self.__bookID) # Assign book to compare to\n",
    "            i = 1\n",
    "            for book in books:\n",
    "                print('%d/271379'%i, end=\"\\r\")\n",
    "                i+=1\n",
    "                if book == self.__bookID:\n",
    "                    next # Don't compare to iteslf\n",
    "                else:\n",
    "                    super().setBook2(book)\n",
    "                    # THIS WILL TAKE FOREVER WITH 271379 Books, lets find out...\n",
    "                    similarity = super().getSimilarity(userPreference)\n",
    "                    rankings[book] = similarity\n",
    "                    \n",
    "            self.__bookID = None\n",
    "            return sorted(rankings.items(), key = lambda x:x[1], reverse = True)'''\n",
    "            books = [] # Take all books that have been read and place them in a list\n",
    "            i = 1\n",
    "            userlength = len(userPreference)\n",
    "            for user in userPreference:\n",
    "                print('%d/%d'%(i,userlength), end=\"\\r\")\n",
    "                i+=1\n",
    "                for book in userPreference[user]:\n",
    "                    if book in books:\n",
    "                        continue\n",
    "                    else:\n",
    "                        books.append(books)\n",
    "            return books\n",
    "        else:\n",
    "            print('Book or User not specified')\n",
    "    \n",
    "\n",
    "up = UserPreference()\n",
    "dictionary = up.userPreference()\n",
    "sim = SimilarityUsers()\n",
    "\n",
    "def setUserDict(users):\n",
    "    userDict = {}\n",
    "    for user in list(users):\n",
    "        for book in list(users.values()):\n",
    "            userDict[user] = int(book[-1])\n",
    "    return userDict\n",
    "\n",
    "def testUserSim(dictionary,sim):\n",
    "\n",
    "    start_time = time.time()\n",
    "\n",
    "    user1 = dictionary['276772']\n",
    "    user1Dict = {}\n",
    "    user2 = dictionary['11676'] \n",
    "    user2Dict = {}\n",
    "    user3 = dictionary['558']\n",
    "    user3Dict = {}\n",
    "    user4 = dictionary['183']\n",
    "    user4Dict = {}\n",
    "    \n",
    "    #print(list(user1.values())[0][-1])\n",
    "    user1Dict = setUserDict(user1)\n",
    "    user2Dict = setUserDict(user2)\n",
    "    user3Dict = setUserDict(user3)\n",
    "    '''    for user in list(user1):\n",
    "        for book in list(user1.values()):\n",
    "            user1Dict[user] = int(book[-1]) # ID : rating\n",
    "    \n",
    "    for user in list(user2):\n",
    "        for book in list(user2.values()):\n",
    "            user2Dict[user] = int(book[-1]) # ID : rating    '''\n",
    "            \n",
    "    sim.setUser1(user1Dict)\n",
    "    sim.setUser2(user2Dict)\n",
    "    print(sim.getCosineMetric())\n",
    "\n",
    "    print(time.time() - start_time) # TAKES circa 35 SECONDS!\n",
    "    \n",
    "#testUserSim(dictionary,sim)\n",
    "\n",
    "def testBooks(dictionary):\n",
    "    start_time = time.time()\n",
    "    sim = SimilarityBooks()\n",
    "    sim.setBook1('0345339711')\n",
    "    sim.setBook2('059035342X')\n",
    "    print(sim.getSimilarity(dictionary))\n",
    "    print(time.time() - start_time)\n",
    "#testBooks(dictionary)\n",
    "\n",
    "def testNSim(dictionary):\n",
    "    start_time = time.time()\n",
    "    sim = NSimilarItems()\n",
    "    #sim.setUserID('11676')\n",
    "    #print(sim.getNSimilarItems('Euclidean',dictionary))\n",
    "    sim.setBookID('3499230933')\n",
    "    #sim.getNSimilarItems('Euclidean',dictionary) # Shouldn't need to specify a sim metric here\n",
    "    #sim.setUserID('276925')\n",
    "    #dictionary = sim.reduceDataset(dictionary) # Greatly reduces the dataset to iterate over\n",
    "    print(sim.getNSimilarItems('Euclidean',dictionary))\n",
    "    print(time.time()-start_time)\n",
    "testNSim(dictionary)            \n"
   ]
  },
  {
   "cell_type": "code",
   "execution_count": null,
   "metadata": {},
   "outputs": [],
   "source": [
    "lists = ['\"276725\"','\"276725\"','\"276725\"']\n",
    "[s.strip('\"') for s in lists]"
   ]
  },
  {
   "cell_type": "code",
   "execution_count": 69,
   "metadata": {},
   "outputs": [
    {
     "name": "stdout",
     "output_type": "stream",
     "text": [
      "{'barry': 100, 'abc': 2, 'bbc': 4}\n",
      "{'abc': 5, 'barry': 100, 'bbc': 7}\n",
      "218\n"
     ]
    }
   ],
   "source": [
    "BooksAndRatings1 = {'barry':100,'abc':2,'abb':3,'cba':7,'bbc':4}\n",
    "BooksAndRatings2 = {'abc':5,'abg':3,'cbaa':7,'barry':100,'bbc':7}\n",
    "\n",
    "s1=set(BooksAndRatings1)\n",
    "s2=set(BooksAndRatings2)\n",
    "symmetricDiff = s1 ^ s2 # All elements that only appear in set a or only appear in set b\n",
    "\n",
    "for key in symmetricDiff:\n",
    "    if key in BooksAndRatings1:\n",
    "        del BooksAndRatings1[key]\n",
    "    if key in BooksAndRatings2:\n",
    "        del BooksAndRatings2[key]\n",
    "    \n",
    "print(BooksAndRatings1)\n",
    "print(BooksAndRatings2)\n",
    "\n",
    "# Euclidean distance\n",
    "\n",
    "def summation(dic1,dic2):\n",
    "    summation = 0\n",
    "    for i in dic1:\n",
    "        for j in dic2:\n",
    "            if i == j:\n",
    "                summation+= dic1[i]+dic[j]\n",
    "            else:\n",
    "                continue\n",
    "    return summation\n",
    "    \n"
   ]
  },
  {
   "cell_type": "code",
   "execution_count": 107,
   "metadata": {},
   "outputs": [
    {
     "data": {
      "text/plain": [
       "3.3333333333333335"
      ]
     },
     "execution_count": 107,
     "metadata": {},
     "output_type": "execute_result"
    }
   ],
   "source": [
    "l1 = {'A':2,'B':3,'C':5}\n",
    "\n",
    "mean = lambda ratings : sum(ratings.values())/len(ratings)\n",
    "mean(l1)"
   ]
  },
  {
   "cell_type": "raw",
   "metadata": {},
   "source": [
    "l1 = [1,4,5,6,4]\n",
    "sum(l1-4)"
   ]
  },
  {
   "cell_type": "code",
   "execution_count": 135,
   "metadata": {},
   "outputs": [
    {
     "name": "stdout",
     "output_type": "stream",
     "text": [
      "<map object at 0x11e2568d0>\n"
     ]
    }
   ],
   "source": [
    "sqr = lambda num : num + num\n",
    "l1 = (1,2,3,4,5)\n",
    "m = (map(sqr,l1))\n",
    "print(m)"
   ]
  },
  {
   "cell_type": "code",
   "execution_count": 129,
   "metadata": {},
   "outputs": [
    {
     "name": "stdout",
     "output_type": "stream",
     "text": [
      "[2, 4, 6, 8]\n"
     ]
    }
   ],
   "source": [
    "# Python program to demonstrate working\n",
    "# of map.\n",
    "  \n",
    "# Return double of n\n",
    "'''def addition(n):\n",
    "    return n + n'''\n",
    "lambda addition : addition + addition\n",
    "\n",
    "# We double all numbers using map()\n",
    "numbers = (1, 2, 3, 4)\n",
    "result = map(addition, numbers)\n",
    "print(list(result))"
   ]
  },
  {
   "cell_type": "code",
   "execution_count": 131,
   "metadata": {},
   "outputs": [
    {
     "name": "stdout",
     "output_type": "stream",
     "text": [
      "[2, 4, 6, 8]\n"
     ]
    }
   ],
   "source": [
    "add = lambda addition : addition + addition\n",
    "\n",
    "numbers = (1,2,3,4)\n",
    "\n",
    "result = map(add,numbers)\n",
    "print(list(result))"
   ]
  },
  {
   "cell_type": "code",
   "execution_count": 146,
   "metadata": {},
   "outputs": [
    {
     "name": "stdout",
     "output_type": "stream",
     "text": [
      "14\n"
     ]
    }
   ],
   "source": [
    "sqr = lambda num : num **2\n",
    "l1 = {'A':1,'B':2,'C':3}\n",
    "m = sum(map(sqr,l1.values()))\n",
    "print(m)"
   ]
  },
  {
   "cell_type": "code",
   "execution_count": 179,
   "metadata": {},
   "outputs": [
    {
     "name": "stdout",
     "output_type": "stream",
     "text": [
      "1153\n"
     ]
    },
    {
     "ename": "TypeError",
     "evalue": "cannot convert dictionary update sequence element #0 to a sequence",
     "output_type": "error",
     "traceback": [
      "\u001b[0;31m---------------------------------------------------------------------------\u001b[0m",
      "\u001b[0;31mTypeError\u001b[0m                                 Traceback (most recent call last)",
      "\u001b[0;32m<ipython-input-179-7a905f374768>\u001b[0m in \u001b[0;36m<module>\u001b[0;34m\u001b[0m\n\u001b[1;32m      6\u001b[0m \u001b[0mmultiplications\u001b[0m \u001b[0;34m=\u001b[0m \u001b[0msum\u001b[0m\u001b[0;34m(\u001b[0m\u001b[0mlist\u001b[0m\u001b[0;34m(\u001b[0m\u001b[0mmap\u001b[0m\u001b[0;34m(\u001b[0m\u001b[0mmultiply\u001b[0m\u001b[0;34m,\u001b[0m\u001b[0msort1\u001b[0m\u001b[0;34m,\u001b[0m\u001b[0msort2\u001b[0m\u001b[0;34m)\u001b[0m\u001b[0;34m)\u001b[0m\u001b[0;34m)\u001b[0m\u001b[0;34m\u001b[0m\u001b[0;34m\u001b[0m\u001b[0m\n\u001b[1;32m      7\u001b[0m \u001b[0mprint\u001b[0m\u001b[0;34m(\u001b[0m\u001b[0mmultiplications\u001b[0m\u001b[0;34m)\u001b[0m\u001b[0;34m\u001b[0m\u001b[0;34m\u001b[0m\u001b[0m\n\u001b[0;32m----> 8\u001b[0;31m \u001b[0mdict\u001b[0m\u001b[0;34m(\u001b[0m\u001b[0msort2\u001b[0m\u001b[0;34m)\u001b[0m\u001b[0;34m\u001b[0m\u001b[0;34m\u001b[0m\u001b[0m\n\u001b[0m",
      "\u001b[0;31mTypeError\u001b[0m: cannot convert dictionary update sequence element #0 to a sequence"
     ]
    }
   ],
   "source": [
    "l1 = {'A':23,'C':43,'B':5} \n",
    "l2 = {'B':23,'A':4,'C':22}\n",
    "sort1 = dict(sorted(l1.items())).values()\n",
    "sort2 = dict(sorted(l2.items())).values()\n",
    "multiply = lambda a,b : a * b\n",
    "multiplications = sum(list(map(multiply,sort1,sort2)))\n",
    "print(multiplications)\n",
    "dict(sort2)"
   ]
  },
  {
   "cell_type": "code",
   "execution_count": 211,
   "metadata": {},
   "outputs": [
    {
     "data": {
      "text/plain": [
       "0.0"
      ]
     },
     "execution_count": 211,
     "metadata": {},
     "output_type": "execute_result"
    }
   ],
   "source": [
    "l1 = {'A':2,'B':2}\n",
    "l2 = {'A':5,'B':5}\n",
    "l3 = [123,4]\n",
    "l4 = [123,4]\n",
    "subtractPower = lambda a,b : (a-b)**2\n",
    "sqrt(sum(map(subtractPower,l3,l4)))"
   ]
  },
  {
   "cell_type": "code",
   "execution_count": 237,
   "metadata": {},
   "outputs": [
    {
     "ename": "TypeError",
     "evalue": "unsupported operand type(s) for -: 'list' and 'int'",
     "output_type": "error",
     "traceback": [
      "\u001b[0;31m---------------------------------------------------------------------------\u001b[0m",
      "\u001b[0;31mTypeError\u001b[0m                                 Traceback (most recent call last)",
      "\u001b[0;32m<ipython-input-237-09b0c965d411>\u001b[0m in \u001b[0;36m<module>\u001b[0;34m\u001b[0m\n\u001b[1;32m      6\u001b[0m \u001b[0;34m\u001b[0m\u001b[0m\n\u001b[1;32m      7\u001b[0m \u001b[0mcalc\u001b[0m \u001b[0;34m=\u001b[0m \u001b[0;32mlambda\u001b[0m \u001b[0ma\u001b[0m\u001b[0;34m,\u001b[0m\u001b[0mmean\u001b[0m \u001b[0;34m:\u001b[0m \u001b[0ma\u001b[0m \u001b[0;34m-\u001b[0m \u001b[0mmean\u001b[0m\u001b[0;34m\u001b[0m\u001b[0;34m\u001b[0m\u001b[0m\n\u001b[0;32m----> 8\u001b[0;31m \u001b[0mlist\u001b[0m\u001b[0;34m(\u001b[0m\u001b[0mmap\u001b[0m\u001b[0;34m(\u001b[0m\u001b[0mcalc\u001b[0m\u001b[0;34m(\u001b[0m\u001b[0ml1\u001b[0m\u001b[0;34m,\u001b[0m\u001b[0mmean1\u001b[0m\u001b[0;34m)\u001b[0m\u001b[0;34m)\u001b[0m\u001b[0;34m)\u001b[0m\u001b[0;34m\u001b[0m\u001b[0;34m\u001b[0m\u001b[0m\n\u001b[0m",
      "\u001b[0;32m<ipython-input-237-09b0c965d411>\u001b[0m in \u001b[0;36m<lambda>\u001b[0;34m(a, mean)\u001b[0m\n\u001b[1;32m      5\u001b[0m \u001b[0mmean2\u001b[0m \u001b[0;34m=\u001b[0m \u001b[0;36m41\u001b[0m\u001b[0;34m\u001b[0m\u001b[0;34m\u001b[0m\u001b[0m\n\u001b[1;32m      6\u001b[0m \u001b[0;34m\u001b[0m\u001b[0m\n\u001b[0;32m----> 7\u001b[0;31m \u001b[0mcalc\u001b[0m \u001b[0;34m=\u001b[0m \u001b[0;32mlambda\u001b[0m \u001b[0ma\u001b[0m\u001b[0;34m,\u001b[0m\u001b[0mmean\u001b[0m \u001b[0;34m:\u001b[0m \u001b[0ma\u001b[0m \u001b[0;34m-\u001b[0m \u001b[0mmean\u001b[0m\u001b[0;34m\u001b[0m\u001b[0;34m\u001b[0m\u001b[0m\n\u001b[0m\u001b[1;32m      8\u001b[0m \u001b[0mlist\u001b[0m\u001b[0;34m(\u001b[0m\u001b[0mmap\u001b[0m\u001b[0;34m(\u001b[0m\u001b[0mcalc\u001b[0m\u001b[0;34m(\u001b[0m\u001b[0ml1\u001b[0m\u001b[0;34m,\u001b[0m\u001b[0mmean1\u001b[0m\u001b[0;34m)\u001b[0m\u001b[0;34m)\u001b[0m\u001b[0;34m)\u001b[0m\u001b[0;34m\u001b[0m\u001b[0;34m\u001b[0m\u001b[0m\n",
      "\u001b[0;31mTypeError\u001b[0m: unsupported operand type(s) for -: 'list' and 'int'"
     ]
    }
   ],
   "source": [
    "l1 = [5,3,4,2,4]\n",
    "l2 = [6,3,2,3,1]\n",
    "\n",
    "mean1 = 43\n",
    "mean2 = 41\n",
    "\n",
    "calc = lambda a,mean : a - mean\n",
    "list(map())"
   ]
  },
  {
   "cell_type": "code",
   "execution_count": 84,
   "metadata": {},
   "outputs": [
    {
     "data": {
      "text/plain": [
       "6"
      ]
     },
     "execution_count": 84,
     "metadata": {},
     "output_type": "execute_result"
    }
   ],
   "source": [
    "class Test1:\n",
    "    \n",
    "    def __init__(self,*args):\n",
    "        args = 1,2,3,4\n",
    "        self.numbers = args\n",
    "        \n",
    "    def getNumbers(self):\n",
    "        return self.numbers\n",
    "    \n",
    "    def setNumbers(self,*args):\n",
    "        print('setting numbers')\n",
    "        self.numbers = args\n",
    "        \n",
    "    def add(self):\n",
    "        return sum(self.numbers)\n",
    "\n",
    "class Test2(Test1):\n",
    "    \n",
    "    def __init__(self,*args):\n",
    "        args=1,2,3,4\n",
    "        self.numbers = args\n",
    "    \n",
    "    def setNumbers(self,*args):\n",
    "        self.numbers = args\n",
    "        \n",
    "    def getNumbers(self):\n",
    "        return self.numbers\n",
    "\n",
    "'''t = Test1()\n",
    "t.setNumbers(1,2,3)\n",
    "t.add()\n",
    "'''\n",
    "t2 = Test2()\n",
    "t2.setNumbers(1,2,3)\n",
    "t2.add()\n"
   ]
  },
  {
   "cell_type": "code",
   "execution_count": 94,
   "metadata": {},
   "outputs": [
    {
     "name": "stdout",
     "output_type": "stream",
     "text": [
      "oui\n",
      "oui\n"
     ]
    }
   ],
   "source": [
    "dictionary = {1:{1:('Harry Potter','J.k. Rowling',2002),2:('LotR','Tolkien',1952)},2:{1:('Barry Potter','J.k. Rowling',2002),2:('LoyR','Tolkien',1952)}}\n",
    "for books in dictionary:\n",
    "    if 1 in dictionary[books]:\n",
    "        print('oui')\n",
    "        "
   ]
  },
  {
   "cell_type": "code",
   "execution_count": 70,
   "metadata": {},
   "outputs": [
    {
     "name": "stdout",
     "output_type": "stream",
     "text": [
      "0.25\n"
     ]
    }
   ],
   "source": [
    "usersPref = {'user1':{52:'Book1'},'user2':{52:'Book1',65:'Book2'},'user3':{65:'Book2',42:'Book3'},'user4':{65:'Book2'}}\n",
    "book1ID = 52\n",
    "book2ID = 65\n",
    "\n",
    "s1 = []\n",
    "s2 = []\n",
    "\n",
    "\n",
    "for user in usersPref:\n",
    "    if book1ID in usersPref[user]:\n",
    "        s1.append(user)\n",
    "    if book2ID in usersPref[user]:\n",
    "        s2.append(user)\n",
    "        \n",
    "s1 = set(s1)\n",
    "s2 = set(s2)\n",
    "\n",
    "intersect = len(s1.intersection(s2))\n",
    "union = len(s1.union(s2))\n",
    "jaccard = intersect/union\n",
    "\n",
    "print(jaccard)"
   ]
  },
  {
   "cell_type": "code",
   "execution_count": 21,
   "metadata": {},
   "outputs": [
    {
     "name": "stdout",
     "output_type": "stream",
     "text": [
      "{'A': 1, 'C': 12} {'A': 2, 'C': 4}\n"
     ]
    }
   ],
   "source": [
    "d1 = {'A':1,'B':0,'C':12}\n",
    "d2 = {'A':2,'B':3,'C':4}\n",
    "\n",
    "for users in d1.copy():\n",
    "    if d1[users] == 0 or d2[users] == 0:\n",
    "        del d1[users]\n",
    "        del d2[users]\n",
    "    else:\n",
    "        continue\n",
    "print(d1,d2)"
   ]
  },
  {
   "cell_type": "code",
   "execution_count": 71,
   "metadata": {},
   "outputs": [
    {
     "name": "stdout",
     "output_type": "stream",
     "text": [
      "{1: {}}\n"
     ]
    }
   ],
   "source": [
    "d1 = {1:{'A':4}}\n",
    "del d1[1]['A']\n",
    "print(d1)"
   ]
  },
  {
   "cell_type": "code",
   "execution_count": 16,
   "metadata": {},
   "outputs": [
    {
     "name": "stdout",
     "output_type": "stream",
     "text": [
      "None\n"
     ]
    }
   ],
   "source": [
    "class Test():\n",
    "    def __init__(self,bookID=None):\n",
    "        self.bookID = bookID\n",
    "    \n",
    "    def setUserID(self,user):\n",
    "        self.userID = user\n",
    "    \n",
    "    def getUserID(self):\n",
    "        return self.userID\n",
    "    \n",
    "    def testFunc(self):\n",
    "        self.setUserID(None)\n",
    "    \n",
    "t = Test()\n",
    "t.setUserID('123')\n",
    "t.testFunc()\n",
    "print(t.getUserID())"
   ]
  },
  {
   "cell_type": "code",
   "execution_count": 21,
   "metadata": {},
   "outputs": [
    {
     "name": "stdout",
     "output_type": "stream",
     "text": [
      "Average time for mapped function\n",
      "0.0006652603149414063\n",
      "Average time for list comprehension\n",
      "0.0006150102615356445\n"
     ]
    }
   ],
   "source": [
    "import numpy as np\n",
    "import time \n",
    "a1 = list(np.random.randint(10, size=1000))\n",
    "a2 = list(np.random.randint(10,size=1000))\n",
    "t1 = []\n",
    "t2 = []\n",
    "\n",
    "for x in range(1000):\n",
    "    start = time.time()\n",
    "    # Mapping\n",
    "    euclidean = lambda a,b : (a-b)**2\n",
    "    sum(list(map(euclidean,a1,a2)))\n",
    "    t1.append(time.time()-start)\n",
    "\n",
    "    start = time.time()\n",
    "    # List comprehension\n",
    "    sum([(a-b)**2 for a,b in zip(a1,a2)])\n",
    "    t2.append(time.time()-start)\n",
    "print('Average time for mapped function')\n",
    "print(sum(t1)/len(t1))\n",
    "\n",
    "print('Average time for list comprehension')\n",
    "print(sum(t2)/len(t2))"
   ]
  },
  {
   "cell_type": "code",
   "execution_count": null,
   "metadata": {},
   "outputs": [],
   "source": []
  },
  {
   "cell_type": "code",
   "execution_count": null,
   "metadata": {},
   "outputs": [],
   "source": []
  },
  {
   "cell_type": "code",
   "execution_count": null,
   "metadata": {},
   "outputs": [],
   "source": []
  }
 ],
 "metadata": {
  "kernelspec": {
   "display_name": "Python 3",
   "language": "python",
   "name": "python3"
  },
  "language_info": {
   "codemirror_mode": {
    "name": "ipython",
    "version": 3
   },
   "file_extension": ".py",
   "mimetype": "text/x-python",
   "name": "python",
   "nbconvert_exporter": "python",
   "pygments_lexer": "ipython3",
   "version": "3.7.4"
  }
 },
 "nbformat": 4,
 "nbformat_minor": 4
}
