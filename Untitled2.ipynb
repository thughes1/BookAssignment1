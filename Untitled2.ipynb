{
 "cells": [
  {
   "cell_type": "code",
   "execution_count": 231,
   "metadata": {},
   "outputs": [
    {
     "data": {
      "text/plain": [
       "1.0"
      ]
     },
     "execution_count": 231,
     "metadata": {},
     "output_type": "execute_result"
    }
   ],
   "source": [
    "from load_dataset_module import UserPreference\n",
    "from math import sqrt\n",
    "class Similarity:\n",
    "    \n",
    "    def __init__(self,similarityMetric='euclidean',user1={'A':1},user2={'A':2}):\n",
    "        ''' Init object '''\n",
    "        self.similarityMetric = similarityMetric\n",
    "        self.user1 = user1\n",
    "        self.user2 = user2\n",
    "        \n",
    "    def setUser1(self,user):\n",
    "        ''' Sets dictionary containing books(ISNB) and corresponding rating for user1 '''\n",
    "        self.user1 = user\n",
    "        \n",
    "    def getUser1(self):\n",
    "        ''' Returns dictionary containing books(ISBN) and correspondin rating for user1 '''\n",
    "        return self.user1\n",
    "    \n",
    "    def setUser2(self,user):\n",
    "        ''' Sets dictionary containing books(ISNB) and corresponding rating for user2 '''\n",
    "        self.user2 = user\n",
    "        \n",
    "    def getUser2(self):\n",
    "        ''' Returns dictionary containing books(ISBN) and correspondin rating for user2 '''\n",
    "        return self.user2 \n",
    "    \n",
    "    def setSimilarityMetric(self,similarityMetric):\n",
    "        ''' Sets similarity metric '''\n",
    "        self.similarityMetric = similarityMetric\n",
    "        \n",
    "    def getSimilarityMetric(self):\n",
    "        ''' Returns similarity metric '''\n",
    "        return self.similarityMetric\n",
    "\n",
    "    def commonality(self):\n",
    "        ''' Removes any uncommon books from user dictionaries '''\n",
    "        bookAndRatings1 = self.user1 \n",
    "        bookAndRatings2 = self.user2\n",
    "        s1 = set(self.user1)\n",
    "        s2 = set(self.user2)\n",
    "        sDiff = s1 ^ s2 # Symmetric difference\n",
    "        \n",
    "        for key in sDiff: # Removes any non-common books \n",
    "            if key in bookAndRatings1:\n",
    "                del bookAndRatings1[key]\n",
    "            if key in bookAndRatings2:\n",
    "                del bookAndRatings2[key]\n",
    "            \n",
    "        self.user1 = bookAndRatings1\n",
    "        self.user2 = bookAndRatings2\n",
    "        \n",
    "    def sortedValues(self,user):\n",
    "        ''' Items are sorted by key then put into a list containing their values in the same order '''\n",
    "        return dict(sorted(user.items())).values()\n",
    "\n",
    "                        \n",
    "    def getEuclideanMetric(self): \n",
    "        ''' Returns the inverse of the sum of euclidean distance'''\n",
    "        # euclidean = Sqrt of Sum of the difference in ratings squared. \n",
    "        # return 1 / (1 + (euclidean))\n",
    "        \n",
    "        self.commonality() # Removes any non-common ratings       \n",
    "        sort1 = self.sortedValues(self.user1) # Sorts book IDs in alphabetical order\n",
    "        sort2 = self.sortedValues(self.user2)\n",
    "        \n",
    "        subtractPower = lambda a,b : (a - b)**2 # Applies the euclidean distance formula to the values\n",
    "        \n",
    "        euclidean = sqrt(sum(map(subtractPower,sort1,sort2)))\n",
    "        similarityMetric = 1 / (1+(euclidean)) # Calculates the inverse of the similarity metric\n",
    "        return similarityMetric\n",
    "\n",
    "    \n",
    "    def getCosineMetric(self):\n",
    "        ''' Returns cosine similarity '''\n",
    "        # Ranges from -1 (Opposite) to 1 (the same) with zero suggesting no correlation\n",
    "        self.commonality() # Removes any non-common ratings    \n",
    "        sort1 = self.sortedValues(self.user1)# Sorts book IDs in alphabetical order\n",
    "        sort2 = self.sortedValues(self.user2)\n",
    "        \n",
    "        multiply = lambda a,b : a * b # Returns the numerator for our cosine calculation\n",
    "        multiplications = sum(list(map(multiply,sort1,sort2)))\n",
    "\n",
    "        square = lambda num : num ** 2 # return the denominator for our cosine calcuation\n",
    "        sumSquares1 = sum(map(square,sort1))\n",
    "        sumSquares2 = sum(map(square,sort2))\n",
    "        \n",
    "        return multiplications / (sqrt(sumSquares1)*sqrt(sumSquares2))\n",
    "\n",
    "        \n",
    "    def getPearson(self):\n",
    "        ''' Returns the Pearson Coefficient '''\n",
    "        self.commonality() # Removes any non-common ratings\n",
    "        '''THIS PART KEEPS GETTING REPEATED THUS SHOULD MAKE NEW FUNCTION'''\n",
    "        sort1 = self.sortedValues(self.user1)\n",
    "        sort2 = self.sortedValues(self.user2)\n",
    "        \n",
    "        mean = lambda x : sum(x)/len(x) # Returns the mean \n",
    "        meanUser1 = mean(sort1)\n",
    "        meanUser2 = mean(sort2)\n",
    "        \n",
    "        subMean = lambda x,y : (x - meanUser1) * (y - meanUser2)\n",
    "        numerator = sum(list(map(subMean,sort1,sort2))) # Returns numerator\n",
    "        \n",
    "        diffSqr1 = lambda x : (x - meanUser1)**2\n",
    "        diffSqr2 = lambda y : (y - meanUser2)**2\n",
    "        user1Diff = sum(list(map(diffSqr1,sort1)))\n",
    "        user2Diff = sum(list(map(diffSqr2,sort2)))\n",
    "        denominator = sqrt(user1Diff*user2Diff) # Returns denominator\n",
    "        \n",
    "        return numerator/denominator\n",
    "           \n",
    "    def getSpearmanCorr(self):\n",
    "        \n",
    "        pass\n",
    "    def similarity5():\n",
    "        pass\n",
    "    def similarityBooks():\n",
    "        pass\n",
    "    \n",
    "\n",
    "def test():    \n",
    "    # Instantiate a user_preference object \n",
    "    # This will later be done in the test module, but for now it will be used to test\n",
    "    up = UserPreference()    \n",
    "    Dictionary = up.userPreference()\n",
    "\n",
    "    booksAndRatings1 = {} # List containing books and their relevant ratings\n",
    "    booksAndRatings2 = {}\n",
    "\n",
    "    for book in Dictionary['276762']:\n",
    "        booksAndRatings1[book] = list(Dictionary['276762'][book])[-1]\n",
    "    for book in Dictionary['4114']:\n",
    "        booksAndRatings2[book] = list(Dictionary['4114'][book])[-1]\n",
    "\n",
    "    s1 = set(booksAndRatings1)\n",
    "    s2 = set(booksAndRatings2)\n",
    "    sDiff = s1 ^ s2\n",
    "\n",
    "    for key in sDiff:\n",
    "        if key in booksAndRatings1:\n",
    "            del booksAndRatings1[key]\n",
    "        if key in booksAndRatings2:\n",
    "            del booksAndRatings2[key]\n",
    "\n",
    "    print(booksAndRatings1)\n",
    "    print(booksAndRatings2)\n",
    "\n",
    "# Instantiate similarity object\n",
    "sim = Similarity()\n",
    "sim.setUser1({'abc':123,'cba':42,'bbc':4})\n",
    "sim.setUser2({'abc':123,'cbc':40,'bbc':4})\n",
    "sim.getPearson()\n"
   ]
  },
  {
   "cell_type": "code",
   "execution_count": null,
   "metadata": {},
   "outputs": [],
   "source": [
    "lists = ['\"276725\"','\"276725\"','\"276725\"']\n",
    "[s.strip('\"') for s in lists]"
   ]
  },
  {
   "cell_type": "code",
   "execution_count": 69,
   "metadata": {},
   "outputs": [
    {
     "name": "stdout",
     "output_type": "stream",
     "text": [
      "{'barry': 100, 'abc': 2, 'bbc': 4}\n",
      "{'abc': 5, 'barry': 100, 'bbc': 7}\n",
      "218\n"
     ]
    }
   ],
   "source": [
    "BooksAndRatings1 = {'barry':100,'abc':2,'abb':3,'cba':7,'bbc':4}\n",
    "BooksAndRatings2 = {'abc':5,'abg':3,'cbaa':7,'barry':100,'bbc':7}\n",
    "\n",
    "s1=set(BooksAndRatings1)\n",
    "s2=set(BooksAndRatings2)\n",
    "symmetricDiff = s1 ^ s2 # All elements that only appear in set a or only appear in set b\n",
    "\n",
    "for key in symmetricDiff:\n",
    "    if key in BooksAndRatings1:\n",
    "        del BooksAndRatings1[key]\n",
    "    if key in BooksAndRatings2:\n",
    "        del BooksAndRatings2[key]\n",
    "    \n",
    "print(BooksAndRatings1)\n",
    "print(BooksAndRatings2)\n",
    "\n",
    "# Euclidean distance\n",
    "\n",
    "def summation(dic1,dic2):\n",
    "    summation = 0\n",
    "    for i in dic1:\n",
    "        for j in dic2:\n",
    "            if i == j:\n",
    "                summation+= dic1[i]+dic[j]\n",
    "            else:\n",
    "                continue\n",
    "    return summation\n",
    "    \n"
   ]
  },
  {
   "cell_type": "code",
   "execution_count": 107,
   "metadata": {},
   "outputs": [
    {
     "data": {
      "text/plain": [
       "3.3333333333333335"
      ]
     },
     "execution_count": 107,
     "metadata": {},
     "output_type": "execute_result"
    }
   ],
   "source": [
    "l1 = {'A':2,'B':3,'C':5}\n",
    "\n",
    "mean = lambda ratings : sum(ratings.values())/len(ratings)\n",
    "mean(l1)"
   ]
  },
  {
   "cell_type": "raw",
   "metadata": {},
   "source": [
    "l1 = [1,4,5,6,4]\n",
    "sum(l1-4)"
   ]
  },
  {
   "cell_type": "code",
   "execution_count": 135,
   "metadata": {},
   "outputs": [
    {
     "name": "stdout",
     "output_type": "stream",
     "text": [
      "<map object at 0x11e2568d0>\n"
     ]
    }
   ],
   "source": [
    "sqr = lambda num : num + num\n",
    "l1 = (1,2,3,4,5)\n",
    "m = (map(sqr,l1))\n",
    "print(m)"
   ]
  },
  {
   "cell_type": "code",
   "execution_count": 129,
   "metadata": {},
   "outputs": [
    {
     "name": "stdout",
     "output_type": "stream",
     "text": [
      "[2, 4, 6, 8]\n"
     ]
    }
   ],
   "source": [
    "# Python program to demonstrate working\n",
    "# of map.\n",
    "  \n",
    "# Return double of n\n",
    "'''def addition(n):\n",
    "    return n + n'''\n",
    "lambda addition : addition + addition\n",
    "\n",
    "# We double all numbers using map()\n",
    "numbers = (1, 2, 3, 4)\n",
    "result = map(addition, numbers)\n",
    "print(list(result))"
   ]
  },
  {
   "cell_type": "code",
   "execution_count": 131,
   "metadata": {},
   "outputs": [
    {
     "name": "stdout",
     "output_type": "stream",
     "text": [
      "[2, 4, 6, 8]\n"
     ]
    }
   ],
   "source": [
    "add = lambda addition : addition + addition\n",
    "\n",
    "numbers = (1,2,3,4)\n",
    "\n",
    "result = map(add,numbers)\n",
    "print(list(result))"
   ]
  },
  {
   "cell_type": "code",
   "execution_count": 146,
   "metadata": {},
   "outputs": [
    {
     "name": "stdout",
     "output_type": "stream",
     "text": [
      "14\n"
     ]
    }
   ],
   "source": [
    "sqr = lambda num : num **2\n",
    "l1 = {'A':1,'B':2,'C':3}\n",
    "m = sum(map(sqr,l1.values()))\n",
    "print(m)"
   ]
  },
  {
   "cell_type": "code",
   "execution_count": 179,
   "metadata": {},
   "outputs": [
    {
     "name": "stdout",
     "output_type": "stream",
     "text": [
      "1153\n"
     ]
    },
    {
     "ename": "TypeError",
     "evalue": "cannot convert dictionary update sequence element #0 to a sequence",
     "output_type": "error",
     "traceback": [
      "\u001b[0;31m---------------------------------------------------------------------------\u001b[0m",
      "\u001b[0;31mTypeError\u001b[0m                                 Traceback (most recent call last)",
      "\u001b[0;32m<ipython-input-179-7a905f374768>\u001b[0m in \u001b[0;36m<module>\u001b[0;34m\u001b[0m\n\u001b[1;32m      6\u001b[0m \u001b[0mmultiplications\u001b[0m \u001b[0;34m=\u001b[0m \u001b[0msum\u001b[0m\u001b[0;34m(\u001b[0m\u001b[0mlist\u001b[0m\u001b[0;34m(\u001b[0m\u001b[0mmap\u001b[0m\u001b[0;34m(\u001b[0m\u001b[0mmultiply\u001b[0m\u001b[0;34m,\u001b[0m\u001b[0msort1\u001b[0m\u001b[0;34m,\u001b[0m\u001b[0msort2\u001b[0m\u001b[0;34m)\u001b[0m\u001b[0;34m)\u001b[0m\u001b[0;34m)\u001b[0m\u001b[0;34m\u001b[0m\u001b[0;34m\u001b[0m\u001b[0m\n\u001b[1;32m      7\u001b[0m \u001b[0mprint\u001b[0m\u001b[0;34m(\u001b[0m\u001b[0mmultiplications\u001b[0m\u001b[0;34m)\u001b[0m\u001b[0;34m\u001b[0m\u001b[0;34m\u001b[0m\u001b[0m\n\u001b[0;32m----> 8\u001b[0;31m \u001b[0mdict\u001b[0m\u001b[0;34m(\u001b[0m\u001b[0msort2\u001b[0m\u001b[0;34m)\u001b[0m\u001b[0;34m\u001b[0m\u001b[0;34m\u001b[0m\u001b[0m\n\u001b[0m",
      "\u001b[0;31mTypeError\u001b[0m: cannot convert dictionary update sequence element #0 to a sequence"
     ]
    }
   ],
   "source": [
    "l1 = {'A':23,'C':43,'B':5} \n",
    "l2 = {'B':23,'A':4,'C':22}\n",
    "sort1 = dict(sorted(l1.items())).values()\n",
    "sort2 = dict(sorted(l2.items())).values()\n",
    "multiply = lambda a,b : a * b\n",
    "multiplications = sum(list(map(multiply,sort1,sort2)))\n",
    "print(multiplications)\n",
    "dict(sort2)"
   ]
  },
  {
   "cell_type": "code",
   "execution_count": 211,
   "metadata": {},
   "outputs": [
    {
     "data": {
      "text/plain": [
       "0.0"
      ]
     },
     "execution_count": 211,
     "metadata": {},
     "output_type": "execute_result"
    }
   ],
   "source": [
    "l1 = {'A':2,'B':2}\n",
    "l2 = {'A':5,'B':5}\n",
    "l3 = [123,4]\n",
    "l4 = [123,4]\n",
    "subtractPower = lambda a,b : (a-b)**2\n",
    "sqrt(sum(map(subtractPower,l3,l4)))"
   ]
  },
  {
   "cell_type": "code",
   "execution_count": 237,
   "metadata": {},
   "outputs": [
    {
     "ename": "TypeError",
     "evalue": "unsupported operand type(s) for -: 'list' and 'int'",
     "output_type": "error",
     "traceback": [
      "\u001b[0;31m---------------------------------------------------------------------------\u001b[0m",
      "\u001b[0;31mTypeError\u001b[0m                                 Traceback (most recent call last)",
      "\u001b[0;32m<ipython-input-237-09b0c965d411>\u001b[0m in \u001b[0;36m<module>\u001b[0;34m\u001b[0m\n\u001b[1;32m      6\u001b[0m \u001b[0;34m\u001b[0m\u001b[0m\n\u001b[1;32m      7\u001b[0m \u001b[0mcalc\u001b[0m \u001b[0;34m=\u001b[0m \u001b[0;32mlambda\u001b[0m \u001b[0ma\u001b[0m\u001b[0;34m,\u001b[0m\u001b[0mmean\u001b[0m \u001b[0;34m:\u001b[0m \u001b[0ma\u001b[0m \u001b[0;34m-\u001b[0m \u001b[0mmean\u001b[0m\u001b[0;34m\u001b[0m\u001b[0;34m\u001b[0m\u001b[0m\n\u001b[0;32m----> 8\u001b[0;31m \u001b[0mlist\u001b[0m\u001b[0;34m(\u001b[0m\u001b[0mmap\u001b[0m\u001b[0;34m(\u001b[0m\u001b[0mcalc\u001b[0m\u001b[0;34m(\u001b[0m\u001b[0ml1\u001b[0m\u001b[0;34m,\u001b[0m\u001b[0mmean1\u001b[0m\u001b[0;34m)\u001b[0m\u001b[0;34m)\u001b[0m\u001b[0;34m)\u001b[0m\u001b[0;34m\u001b[0m\u001b[0;34m\u001b[0m\u001b[0m\n\u001b[0m",
      "\u001b[0;32m<ipython-input-237-09b0c965d411>\u001b[0m in \u001b[0;36m<lambda>\u001b[0;34m(a, mean)\u001b[0m\n\u001b[1;32m      5\u001b[0m \u001b[0mmean2\u001b[0m \u001b[0;34m=\u001b[0m \u001b[0;36m41\u001b[0m\u001b[0;34m\u001b[0m\u001b[0;34m\u001b[0m\u001b[0m\n\u001b[1;32m      6\u001b[0m \u001b[0;34m\u001b[0m\u001b[0m\n\u001b[0;32m----> 7\u001b[0;31m \u001b[0mcalc\u001b[0m \u001b[0;34m=\u001b[0m \u001b[0;32mlambda\u001b[0m \u001b[0ma\u001b[0m\u001b[0;34m,\u001b[0m\u001b[0mmean\u001b[0m \u001b[0;34m:\u001b[0m \u001b[0ma\u001b[0m \u001b[0;34m-\u001b[0m \u001b[0mmean\u001b[0m\u001b[0;34m\u001b[0m\u001b[0;34m\u001b[0m\u001b[0m\n\u001b[0m\u001b[1;32m      8\u001b[0m \u001b[0mlist\u001b[0m\u001b[0;34m(\u001b[0m\u001b[0mmap\u001b[0m\u001b[0;34m(\u001b[0m\u001b[0mcalc\u001b[0m\u001b[0;34m(\u001b[0m\u001b[0ml1\u001b[0m\u001b[0;34m,\u001b[0m\u001b[0mmean1\u001b[0m\u001b[0;34m)\u001b[0m\u001b[0;34m)\u001b[0m\u001b[0;34m)\u001b[0m\u001b[0;34m\u001b[0m\u001b[0;34m\u001b[0m\u001b[0m\n",
      "\u001b[0;31mTypeError\u001b[0m: unsupported operand type(s) for -: 'list' and 'int'"
     ]
    }
   ],
   "source": [
    "l1 = [5,3,4,2,4]\n",
    "l2 = [6,3,2,3,1]\n",
    "\n",
    "mean1 = 43\n",
    "mean2 = 41\n",
    "\n",
    "calc = lambda a,mean : a - mean\n",
    "list(map())"
   ]
  },
  {
   "cell_type": "code",
   "execution_count": null,
   "metadata": {},
   "outputs": [],
   "source": []
  }
 ],
 "metadata": {
  "kernelspec": {
   "display_name": "Python 3",
   "language": "python",
   "name": "python3"
  },
  "language_info": {
   "codemirror_mode": {
    "name": "ipython",
    "version": 3
   },
   "file_extension": ".py",
   "mimetype": "text/x-python",
   "name": "python",
   "nbconvert_exporter": "python",
   "pygments_lexer": "ipython3",
   "version": "3.7.4"
  }
 },
 "nbformat": 4,
 "nbformat_minor": 4
}
